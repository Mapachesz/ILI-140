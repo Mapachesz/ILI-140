{
  "cells": [
    {
      "cell_type": "code",
      "execution_count": null,
      "id": "e480c998-9ce6-4037-9335-3092d5352903",
      "metadata": {
        "colab": {
          "base_uri": "https://localhost:8080/"
        },
        "id": "e480c998-9ce6-4037-9335-3092d5352903",
        "outputId": "662cfa80-3d74-4f3f-d33e-b6b2c304f8c6"
      },
      "outputs": [
        {
          "output_type": "stream",
          "name": "stdout",
          "text": [
            "Collecting gurobipy\n",
            "  Downloading gurobipy-12.0.3-cp312-cp312-manylinux2014_x86_64.manylinux_2_17_x86_64.whl.metadata (16 kB)\n",
            "Downloading gurobipy-12.0.3-cp312-cp312-manylinux2014_x86_64.manylinux_2_17_x86_64.whl (14.3 MB)\n",
            "\u001b[2K   \u001b[90m━━━━━━━━━━━━━━━━━━━━━━━━━━━━━━━━━━━━━━━━\u001b[0m \u001b[32m14.3/14.3 MB\u001b[0m \u001b[31m51.1 MB/s\u001b[0m eta \u001b[36m0:00:00\u001b[0m\n",
            "\u001b[?25hInstalling collected packages: gurobipy\n",
            "Successfully installed gurobipy-12.0.3\n"
          ]
        }
      ],
      "source": [
        "pip install gurobipy"
      ]
    },
    {
      "cell_type": "markdown",
      "id": "8334c688-a38d-411d-91d1-c5c0b2f5d21d",
      "metadata": {
        "id": "8334c688-a38d-411d-91d1-c5c0b2f5d21d"
      },
      "source": [
        "Conjuntos"
      ]
    },
    {
      "cell_type": "code",
      "execution_count": null,
      "id": "97914887-0d42-45c9-a97d-f421964f2cde",
      "metadata": {
        "id": "97914887-0d42-45c9-a97d-f421964f2cde"
      },
      "outputs": [],
      "source": [
        "from gurobipy import Model, GRB, quicksum\n",
        "\n",
        "# Datos del problema\n",
        "regiones = [\"R1\", \"R2\", \"R3\", \"R4\", \"R5\", \"R6\"]\n",
        "ciudades = [\"Antofagasta\", \"Valparaíso\", \"Santiago\", \"Concepción\", \"Puerto Montt\"]\n",
        "tipos_planta = [\"Pequeña\", \"Grande\"]\n",
        "transportes = [\"AT1\", \"AT2\", \"AT3\"]\n",
        "años = [1, 2, 3]"
      ]
    },
    {
      "cell_type": "markdown",
      "id": "a47bad3e-86ff-4f91-8c31-0ab4984e2158",
      "metadata": {
        "id": "a47bad3e-86ff-4f91-8c31-0ab4984e2158"
      },
      "source": [
        "Parametros"
      ]
    },
    {
      "cell_type": "code",
      "execution_count": null,
      "id": "96fd88db-ea9a-4459-8e82-d017e66458b0",
      "metadata": {
        "id": "96fd88db-ea9a-4459-8e82-d017e66458b0"
      },
      "outputs": [],
      "source": [
        "demanda_actual = {\n",
        "    \"R1\": 951776, \"R2\": 967364, \"R3\": 512051, \"R4\": 386248, \"R5\": 946174, \"R6\": 303445\n",
        "}\n",
        "tasas_crecimiento = {\n",
        "    \"R1\": 0.16, \"R2\": 0.22, \"R3\": 0.26, \"R4\": 0.15, \"R5\": 0.39, \"R6\": 0.30\n",
        "}\n",
        "capacidad_planta = {\"Pequeña\": 4636446, \"Grande\": 14966773}\n",
        "costos_fijos = {\n",
        "    (\"Antofagasta\", \"Pequeña\"): 18236639, (\"Antofagasta\", \"Grande\"): 60788796,\n",
        "    (\"Valparaíso\", \"Pequeña\"): 8838286, (\"Valparaíso\", \"Grande\"): 32734393,\n",
        "    (\"Santiago\", \"Pequeña\"): 6840758, (\"Santiago\", \"Grande\"): 32575039,\n",
        "    (\"Rancagua\", \"Pequeña\"): 13378246, (\"Rancagua\", \"Grande\"): 53512984,\n",
        "    (\"Concepción\", \"Pequeña\"): 26394217, (\"Concepción\", \"Grande\"): 65985543,\n",
        "    (\"Puerto Montt\", \"Pequeña\"): 3678737, (\"Puerto Montt\", \"Grande\"): 26276695\n",
        "}\n",
        "costos_variables = {\n",
        "    (\"Antofagasta\", \"Pequeña\"): 28.20, (\"Antofagasta\", \"Grande\"): 28.20,\n",
        "    (\"Valparaíso\", \"Pequeña\"): 41.68, (\"Valparaíso\", \"Grande\"): 41.68,\n",
        "    (\"Santiago\", \"Pequeña\"): 18.57, (\"Santiago\", \"Grande\"): 18.57,\n",
        "    (\"Rancagua\", \"Pequeña\"): 17.68, (\"Rancagua\", \"Grande\"): 17.68,\n",
        "    (\"Concepción\", \"Pequeña\"): 50.11, (\"Concepción\", \"Grande\"): 50.11,\n",
        "    (\"Puerto Montt\", \"Pequeña\"): 43.55, (\"Puerto Montt\", \"Grande\"): 43.55\n",
        "}\n",
        "costos_apertura = {\n",
        "    (\"Antofagasta\", \"Pequeña\"): 86626147, (\"Antofagasta\", \"Grande\"): 201456157,\n",
        "    (\"Valparaíso\", \"Pequeña\"): 115721215, (\"Valparaíso\", \"Grande\"): 199519337,\n",
        "    (\"Santiago\", \"Pequeña\"): 172235977, (\"Santiago\", \"Grande\"): 291925385,\n",
        "    (\"Rancagua\", \"Pequeña\"): 0, (\"Rancagua\", \"Grande\"): 299031830,\n",
        "    (\"Concepción\", \"Pequeña\"): 57494934, (\"Concepción\", \"Grande\"): 179671671,\n",
        "    (\"Puerto Montt\", \"Pequeña\"): 175561277, (\"Puerto Montt\", \"Grande\"): 337617842\n",
        "}\n",
        "costos_transporte = {\n",
        "    (\"AT1\", \"Antofagasta\", \"R1\"): 1.06, (\"AT1\", \"Antofagasta\", \"R2\"): 2.80, (\"AT1\", \"Antofagasta\", \"R3\"): 10.29,\n",
        "    (\"AT1\", \"Antofagasta\", \"R4\"): 4.87, (\"AT1\", \"Antofagasta\", \"R5\"): 6.41, (\"AT1\", \"Antofagasta\", \"R6\"): 10.35,\n",
        "    (\"AT1\", \"Valparaíso\", \"R1\"): 3.49, (\"AT1\", \"Valparaíso\", \"R2\"): 6.19, (\"AT1\", \"Valparaíso\", \"R3\"): 3.39,\n",
        "    (\"AT1\", \"Valparaíso\", \"R4\"): 6.77, (\"AT1\", \"Valparaíso\", \"R5\"): 3.07, (\"AT1\", \"Valparaíso\", \"R6\"): 6.61,\n",
        "    (\"AT1\", \"Santiago\", \"R1\"): 6.38, (\"AT1\", \"Santiago\", \"R2\"): 5.88, (\"AT1\", \"Santiago\", \"R3\"): 5.63,\n",
        "    (\"AT1\", \"Santiago\", \"R4\"): 1.01, (\"AT1\", \"Santiago\", \"R5\"): 3.15, (\"AT1\", \"Santiago\", \"R6\"): 5.67,\n",
        "    (\"AT1\", \"Rancagua\", \"R1\"): 3.44, (\"AT1\", \"Rancagua\", \"R2\"): 1.48, (\"AT1\", \"Rancagua\", \"R3\"): 2.79,\n",
        "    (\"AT1\", \"Rancagua\", \"R4\"): 2.80, (\"AT1\", \"Rancagua\", \"R5\"): 5.30, (\"AT1\", \"Rancagua\", \"R6\"): 1.29,\n",
        "    (\"AT1\", \"Concepción\", \"R1\"): 5.94, (\"AT1\", \"Concepción\", \"R2\"): 7.33, (\"AT1\", \"Concepción\", \"R3\"): 1.80,\n",
        "    (\"AT1\", \"Concepción\", \"R4\"): 9.48, (\"AT1\", \"Concepción\", \"R5\"): 2.82, (\"AT1\", \"Concepción\", \"R6\"): 8.25,\n",
        "    (\"AT1\", \"Puerto Montt\", \"R1\"): 2.57, (\"AT1\", \"Puerto Montt\", \"R2\"): 9.63, (\"AT1\", \"Puerto Montt\", \"R3\"): 4.84,\n",
        "    (\"AT1\", \"Puerto Montt\", \"R4\"): 6.64, (\"AT1\", \"Puerto Montt\", \"R5\"): 6.48, (\"AT1\", \"Puerto Montt\", \"R6\"): 8.54,\n",
        "    (\"AT2\", \"Antofagasta\", \"R1\"): 10.03, (\"AT2\", \"Antofagasta\", \"R2\"): 4.09, (\"AT2\", \"Antofagasta\", \"R3\"): 4.55,\n",
        "    (\"AT2\", \"Antofagasta\", \"R4\"): 7.84, (\"AT2\", \"Antofagasta\", \"R5\"): 5.33, (\"AT2\", \"Antofagasta\", \"R6\"): 10.63,\n",
        "    (\"AT2\", \"Valparaíso\", \"R1\"): 10.52, (\"AT2\", \"Valparaíso\", \"R2\"): 1.82, (\"AT2\", \"Valparaíso\", \"R3\"): 3.91,\n",
        "    (\"AT2\", \"Valparaíso\", \"R4\"): 8.20, (\"AT2\", \"Valparaíso\", \"R5\"): 5.88, (\"AT2\", \"Valparaíso\", \"R6\"): 2.33,\n",
        "    (\"AT2\", \"Santiago\", \"R1\"): 1.90, (\"AT2\", \"Santiago\", \"R2\"): 8.89, (\"AT2\", \"Santiago\", \"R3\"): 6.55,\n",
        "    (\"AT2\", \"Santiago\", \"R4\"): 9.71, (\"AT2\", \"Santiago\", \"R5\"): 7.03, (\"AT2\", \"Santiago\", \"R6\"): 10.23,\n",
        "    (\"AT2\", \"Rancagua\", \"R1\"): 2.06, (\"AT2\", \"Rancagua\", \"R2\"): 10.17, (\"AT2\", \"Rancagua\", \"R3\"): 2.12,\n",
        "    (\"AT2\", \"Rancagua\", \"R4\"): 6.11, (\"AT2\", \"Rancagua\", \"R5\"): 3.79, (\"AT2\", \"Rancagua\", \"R6\"): 6.19,\n",
        "    (\"AT2\", \"Concepción\", \"R1\"): 2.54, (\"AT2\", \"Concepción\", \"R2\"): 6.95, (\"AT2\", \"Concepción\", \"R3\"): 8.57,\n",
        "    (\"AT2\", \"Concepción\", \"R4\"): 10.50, (\"AT2\", \"Concepción\", \"R5\"): 4.85, (\"AT2\", \"Concepción\", \"R6\"): 5.31,\n",
        "    (\"AT2\", \"Puerto Montt\", \"R1\"): 7.92, (\"AT2\", \"Puerto Montt\", \"R2\"): 10.32, (\"AT2\", \"Puerto Montt\", \"R3\"): 1.41,\n",
        "    (\"AT2\", \"Puerto Montt\", \"R4\"): 4.94, (\"AT2\", \"Puerto Montt\", \"R5\"): 2.74, (\"AT2\", \"Puerto Montt\", \"R6\"): 8.08,\n",
        "    (\"AT3\", \"Antofagasta\", \"R1\"): 9.86, (\"AT3\", \"Antofagasta\", \"R2\"): 4.30, (\"AT3\", \"Antofagasta\", \"R3\"): 8.10,\n",
        "    (\"AT3\", \"Antofagasta\", \"R4\"): 9.63, (\"AT3\", \"Antofagasta\", \"R5\"): 7.40, (\"AT3\", \"Antofagasta\", \"R6\"): 6.47,\n",
        "    (\"AT3\", \"Valparaíso\", \"R1\"): 1.58, (\"AT3\", \"Valparaíso\", \"R2\"): 2.71, (\"AT3\", \"Valparaíso\", \"R3\"): 3.08,\n",
        "    (\"AT3\", \"Valparaíso\", \"R4\"): 5.91, (\"AT3\", \"Valparaíso\", \"R5\"): 7.99, (\"AT3\", \"Valparaíso\", \"R6\"): 5.11,\n",
        "    (\"AT3\", \"Santiago\", \"R1\"): 9.13, (\"AT3\", \"Santiago\", \"R2\"): 10.03, (\"AT3\", \"Santiago\", \"R3\"): 6.77,\n",
        "    (\"AT3\", \"Santiago\", \"R4\"): 5.70, (\"AT3\", \"Santiago\", \"R5\"): 3.62, (\"AT3\", \"Santiago\", \"R6\"): 8.58,\n",
        "    (\"AT3\", \"Rancagua\", \"R1\"): 8.95, (\"AT3\", \"Rancagua\", \"R2\"): 7.37, (\"AT3\", \"Rancagua\", \"R3\"): 10.29,\n",
        "    (\"AT3\", \"Rancagua\", \"R4\"): 3.34, (\"AT3\", \"Rancagua\", \"R5\"): 2.21, (\"AT3\", \"Rancagua\", \"R6\"): 4.58,\n",
        "    (\"AT3\", \"Concepción\", \"R1\"): 9.62, (\"AT3\", \"Concepción\", \"R2\"): 3.78, (\"AT3\", \"Concepción\", \"R3\"): 5.19,\n",
        "    (\"AT3\", \"Concepción\", \"R4\"): 2.61, (\"AT3\", \"Concepción\", \"R5\"): 3.19, (\"AT3\", \"Concepción\", \"R6\"): 1.78,\n",
        "    (\"AT3\", \"Puerto Montt\", \"R1\"): 10.32, (\"AT3\", \"Puerto Montt\", \"R2\"): 8.88, (\"AT3\", \"Puerto Montt\", \"R3\"): 10.87,\n",
        "    (\"AT3\", \"Puerto Montt\", \"R4\"): 10.38, (\"AT3\", \"Puerto Montt\", \"R5\"): 5.83, (\"AT3\", \"Puerto Montt\", \"R6\"): 1.54\n",
        "}\n"
      ]
    },
    {
      "cell_type": "markdown",
      "id": "e15f0575-60a8-459b-a905-80475fa64e45",
      "metadata": {
        "id": "e15f0575-60a8-459b-a905-80475fa64e45"
      },
      "source": [
        "Variables de Decision"
      ]
    },
    {
      "cell_type": "code",
      "execution_count": null,
      "id": "79798a30-ce68-4941-8123-29b254bf01cd",
      "metadata": {
        "colab": {
          "base_uri": "https://localhost:8080/"
        },
        "id": "79798a30-ce68-4941-8123-29b254bf01cd",
        "outputId": "5492c86b-4de6-4849-e0c9-3490e8acc05c"
      },
      "outputs": [
        {
          "output_type": "stream",
          "name": "stdout",
          "text": [
            "Restricted license - for non-production use only - expires 2026-11-23\n"
          ]
        }
      ],
      "source": [
        "# Crear el modelo\n",
        "m = Model(\"FunnysCompany\")\n",
        "\n",
        "# Variables de decisión\n",
        "x = m.addVars(ciudades, tipos_planta, vtype=GRB.INTEGER, name=\"x\")\n",
        "y = m.addVars(ciudades, regiones, transportes, años, vtype=GRB.INTEGER, name=\"y\")\n",
        "z = m.addVars(ciudades, tipos_planta, años, vtype=GRB.INTEGER, name=\"z\")"
      ]
    },
    {
      "cell_type": "markdown",
      "id": "03b47734-9376-471e-8e4e-501e31ef9ab6",
      "metadata": {
        "id": "03b47734-9376-471e-8e4e-501e31ef9ab6"
      },
      "source": [
        "# Funcion Objetivo"
      ]
    },
    {
      "cell_type": "code",
      "execution_count": null,
      "id": "f9842101-37ac-446c-ad82-947d421f9b00",
      "metadata": {
        "id": "f9842101-37ac-446c-ad82-947d421f9b00"
      },
      "outputs": [],
      "source": [
        "# Función objetivo\n",
        "m.setObjective(\n",
        "    quicksum(costos_apertura[(c, p)] * x[c, p] for c in ciudades for p in tipos_planta) +\n",
        "    quicksum(costos_fijos[(c, p)] * x[(c, p)] for c in ciudades for p in tipos_planta ) +\n",
        "    quicksum(costos_variables[(c, p)] * y[c, r, t, an] for c in ciudades for p in tipos_planta for r in regiones for t in transportes for an in años) +\n",
        "    quicksum(costos_transporte[(t, c, r)] * y[c, r, t, an] for c in ciudades for r in regiones for t in transportes for an in años),\n",
        "    GRB.MINIMIZE\n",
        ")"
      ]
    },
    {
      "cell_type": "markdown",
      "id": "93a9bc5a-3442-4b34-b7e4-c6b433d3b960",
      "metadata": {
        "id": "93a9bc5a-3442-4b34-b7e4-c6b433d3b960"
      },
      "source": [
        "## Restricciones"
      ]
    },
    {
      "cell_type": "code",
      "execution_count": null,
      "id": "4b433062-9a8c-493e-b47f-d8235c488529",
      "metadata": {
        "id": "4b433062-9a8c-493e-b47f-d8235c488529"
      },
      "outputs": [],
      "source": [
        "# Restricciones\n",
        "# 1. Demanda satisfecha\n",
        "for r in regiones:\n",
        "    for an in años:\n",
        "        m.addConstr(quicksum(y[c, r, t, an] for c in ciudades for t in transportes) >= demanda_actual[r] * (1 + tasas_crecimiento[r]) ** (an - 1), name=f\"demanda_satisfecha_{r}_{an}\")\n",
        "\n",
        "# 3. Balance de producción y transporte\n",
        "#for c in ciudades:\n",
        "#    for an in años:\n",
        "#        for p in tipos_planta:\n",
        "#            m.addConstr(quicksum(y[c, r, t, an] for r in regiones for t in transportes) <= z[c, p, an], name=f\"balance_produccion_{c}_{p}_{an}\")\n",
        "\n",
        "# Restricciones de demanda: asegurar que la capacidad total cubra la demanda\n",
        "for r, d in demanda_actual.items():\n",
        "    m.addConstr(quicksum(x[c, p] * capacidad_planta[p] for c in ciudades for p in tipos_planta) >= d, name=f\"demanda_{r}\")\n",
        "for p in tipos_planta:\n",
        "    m.addConstr(quicksum(x[c,p] for c in ciudades) <= 1 , name=\"1 planta por ciudad\")\n",
        "for c in ciudades:\n",
        "    m.addConstr(quicksum(x[c,p] for p in tipos_planta) <= 1 , name=\"1 planta por tipo planta\")\n"
      ]
    },
    {
      "cell_type": "markdown",
      "id": "f42bef93-217c-4277-978d-663e778f0d93",
      "metadata": {
        "id": "f42bef93-217c-4277-978d-663e778f0d93"
      },
      "source": [
        "## Resultados"
      ]
    },
    {
      "cell_type": "code",
      "execution_count": null,
      "id": "d8ca6f70-e486-42cc-80e8-61eb381a0d4f",
      "metadata": {
        "colab": {
          "base_uri": "https://localhost:8080/"
        },
        "id": "d8ca6f70-e486-42cc-80e8-61eb381a0d4f",
        "outputId": "375c3615-ae01-422c-aafd-c363b249c7e2"
      },
      "outputs": [
        {
          "output_type": "stream",
          "name": "stdout",
          "text": [
            "Gurobi Optimizer version 12.0.3 build v12.0.3rc0 (linux64 - \"Ubuntu 22.04.4 LTS\")\n",
            "\n",
            "CPU model: Intel(R) Xeon(R) CPU @ 2.20GHz, instruction set [SSE2|AVX|AVX2]\n",
            "Thread count: 1 physical cores, 2 logical processors, using up to 2 threads\n",
            "\n",
            "Optimize a model with 31 rows, 310 columns and 350 nonzeros\n",
            "Model fingerprint: 0xe82b51e7\n",
            "Variable types: 0 continuous, 310 integer (0 binary)\n",
            "Coefficient statistics:\n",
            "  Matrix range     [1e+00, 1e+07]\n",
            "  Objective range  [4e+01, 4e+08]\n",
            "  Bounds range     [0e+00, 0e+00]\n",
            "  RHS range        [1e+00, 2e+06]\n",
            "Found heuristic solution: objective 1.844373e+09\n",
            "Presolve removed 28 rows and 300 columns\n",
            "Presolve time: 0.00s\n",
            "Presolved: 3 rows, 10 columns, 20 nonzeros\n",
            "Found heuristic solution: objective 1.000511e+09\n",
            "Variable types: 0 continuous, 10 integer (10 binary)\n",
            "\n",
            "Root relaxation: objective 7.205059e+08, 1 iterations, 0.00 seconds (0.00 work units)\n",
            "\n",
            "    Nodes    |    Current Node    |     Objective Bounds      |     Work\n",
            " Expl Unexpl |  Obj  Depth IntInf | Incumbent    BestBd   Gap | It/Node Time\n",
            "\n",
            "*    0     0               0    7.205059e+08 7.2051e+08  0.00%     -    0s\n",
            "\n",
            "Explored 1 nodes (1 simplex iterations) in 0.02 seconds (0.00 work units)\n",
            "Thread count was 2 (of 2 available processors)\n",
            "\n",
            "Solution count 3: 7.20506e+08 1.00051e+09 1.84437e+09 \n",
            "\n",
            "Optimal solution found (tolerance 1.00e-04)\n",
            "Best objective 7.205058587200e+08, best bound 7.205058587200e+08, gap 0.0000%\n",
            "Instalar planta Pequeña en Concepción\n",
            "Transportar 951776.0 unidades desde Santiago a R1 usando AT2 en el año 1\n",
            "Transportar 1104061.0 unidades desde Santiago a R1 usando AT2 en el año 2\n",
            "Transportar 1280710.0 unidades desde Santiago a R1 usando AT2 en el año 3\n",
            "Transportar 967364.0 unidades desde Santiago a R2 usando AT1 en el año 1\n",
            "Transportar 1180185.0 unidades desde Santiago a R2 usando AT1 en el año 2\n",
            "Transportar 1439825.0 unidades desde Santiago a R2 usando AT1 en el año 3\n",
            "Transportar 512051.0 unidades desde Santiago a R3 usando AT1 en el año 1\n",
            "Transportar 645185.0 unidades desde Santiago a R3 usando AT1 en el año 2\n",
            "Transportar 812933.0 unidades desde Santiago a R3 usando AT1 en el año 3\n",
            "Transportar 386248.0 unidades desde Santiago a R4 usando AT1 en el año 1\n",
            "Transportar 444186.0 unidades desde Santiago a R4 usando AT1 en el año 2\n",
            "Transportar 510813.0 unidades desde Santiago a R4 usando AT1 en el año 3\n",
            "Transportar 946174.0 unidades desde Santiago a R5 usando AT1 en el año 1\n",
            "Transportar 1315182.0 unidades desde Santiago a R5 usando AT1 en el año 2\n",
            "Transportar 1828103.0 unidades desde Santiago a R5 usando AT1 en el año 3\n",
            "Transportar 303445.0 unidades desde Santiago a R6 usando AT1 en el año 1\n",
            "Transportar 394479.0 unidades desde Santiago a R6 usando AT1 en el año 2\n",
            "Transportar 512823.0 unidades desde Santiago a R6 usando AT1 en el año 3\n",
            "Instalar 1.0 planta(s) de tipo Pequeña en Concepción\n",
            "\n",
            "--- Resultados del Modelo ---\n",
            "Costo total de apertura: 57494934.0\n",
            "Costo total fijo: 26394217.0\n",
            "Costo total variable: 576990067.02\n",
            "Costo total de transporte: 59626640.7\n",
            "Costo total general: 720505858.72\n",
            "\n",
            "--- Plan de Transporte ---\n",
            "Año 1: Transportar 951776.0 unidades desde Santiago a R1 usando AT2\n",
            "Año 2: Transportar 1104061.0 unidades desde Santiago a R1 usando AT2\n",
            "Año 3: Transportar 1280710.0 unidades desde Santiago a R1 usando AT2\n",
            "Año 1: Transportar 967364.0 unidades desde Santiago a R2 usando AT1\n",
            "Año 2: Transportar 1180185.0 unidades desde Santiago a R2 usando AT1\n",
            "Año 3: Transportar 1439825.0 unidades desde Santiago a R2 usando AT1\n",
            "Año 1: Transportar 512051.0 unidades desde Santiago a R3 usando AT1\n",
            "Año 2: Transportar 645185.0 unidades desde Santiago a R3 usando AT1\n",
            "Año 3: Transportar 812933.0 unidades desde Santiago a R3 usando AT1\n",
            "Año 1: Transportar 386248.0 unidades desde Santiago a R4 usando AT1\n",
            "Año 2: Transportar 444186.0 unidades desde Santiago a R4 usando AT1\n",
            "Año 3: Transportar 510813.0 unidades desde Santiago a R4 usando AT1\n",
            "Año 1: Transportar 946174.0 unidades desde Santiago a R5 usando AT1\n",
            "Año 2: Transportar 1315182.0 unidades desde Santiago a R5 usando AT1\n",
            "Año 3: Transportar 1828103.0 unidades desde Santiago a R5 usando AT1\n",
            "Año 1: Transportar 303445.0 unidades desde Santiago a R6 usando AT1\n",
            "Año 2: Transportar 394479.0 unidades desde Santiago a R6 usando AT1\n",
            "Año 3: Transportar 512823.0 unidades desde Santiago a R6 usando AT1\n",
            "\n",
            "--- Producción Anual de Plantas ---\n",
            "\n",
            "--- Comparativo Demanda vs. Transporte ---\n",
            "Año 1 - Región R1:\n",
            "  Demanda: 951776.0\n",
            "  Unidades transportadas: 951776.0\n",
            "  Diferencia: 0.0\n",
            "\n",
            "Año 2 - Región R1:\n",
            "  Demanda: 1104060.16\n",
            "  Unidades transportadas: 1104061.0\n",
            "  Diferencia: 0.840000000083819\n",
            "\n",
            "Año 3 - Región R1:\n",
            "  Demanda: 1280709.7855999998\n",
            "  Unidades transportadas: 1280710.0\n",
            "  Diferencia: 0.21440000017173588\n",
            "\n",
            "Año 1 - Región R2:\n",
            "  Demanda: 967364.0\n",
            "  Unidades transportadas: 967364.0\n",
            "  Diferencia: 0.0\n",
            "\n",
            "Año 2 - Región R2:\n",
            "  Demanda: 1180184.08\n",
            "  Unidades transportadas: 1180185.0\n",
            "  Diferencia: 0.9199999999254942\n",
            "\n",
            "Año 3 - Región R2:\n",
            "  Demanda: 1439824.5776\n",
            "  Unidades transportadas: 1439825.0\n",
            "  Diferencia: 0.4224000000394881\n",
            "\n",
            "Año 1 - Región R3:\n",
            "  Demanda: 512051.0\n",
            "  Unidades transportadas: 512051.0\n",
            "  Diferencia: 0.0\n",
            "\n",
            "Año 2 - Región R3:\n",
            "  Demanda: 645184.26\n",
            "  Unidades transportadas: 645185.0\n",
            "  Diferencia: 0.7399999999906868\n",
            "\n",
            "Año 3 - Región R3:\n",
            "  Demanda: 812932.1676\n",
            "  Unidades transportadas: 812933.0\n",
            "  Diferencia: 0.832399999955669\n",
            "\n",
            "Año 1 - Región R4:\n",
            "  Demanda: 386248.0\n",
            "  Unidades transportadas: 386248.0\n",
            "  Diferencia: 0.0\n",
            "\n",
            "Año 2 - Región R4:\n",
            "  Demanda: 444185.19999999995\n",
            "  Unidades transportadas: 444186.0\n",
            "  Diferencia: 0.8000000000465661\n",
            "\n",
            "Año 3 - Región R4:\n",
            "  Demanda: 510812.9799999999\n",
            "  Unidades transportadas: 510813.0\n",
            "  Diferencia: 0.020000000076834112\n",
            "\n",
            "Año 1 - Región R5:\n",
            "  Demanda: 946174.0\n",
            "  Unidades transportadas: 946174.0\n",
            "  Diferencia: 0.0\n",
            "\n",
            "Año 2 - Región R5:\n",
            "  Demanda: 1315181.86\n",
            "  Unidades transportadas: 1315182.0\n",
            "  Diferencia: 0.13999999989755452\n",
            "\n",
            "Año 3 - Región R5:\n",
            "  Demanda: 1828102.7854000004\n",
            "  Unidades transportadas: 1828103.0\n",
            "  Diferencia: 0.21459999959915876\n",
            "\n",
            "Año 1 - Región R6:\n",
            "  Demanda: 303445.0\n",
            "  Unidades transportadas: 303445.0\n",
            "  Diferencia: 0.0\n",
            "\n",
            "Año 2 - Región R6:\n",
            "  Demanda: 394478.5\n",
            "  Unidades transportadas: 394479.0\n",
            "  Diferencia: 0.5\n",
            "\n",
            "Año 3 - Región R6:\n",
            "  Demanda: 512822.05000000005\n",
            "  Unidades transportadas: 512823.0\n",
            "  Diferencia: 0.9499999999534339\n",
            "\n",
            "\n",
            "--- Comparativo Demanda vs. Capacidad de Plantas ---\n",
            "Año 1:\n",
            "  Demanda Total: 4067058.0\n",
            "  Capacidad Total de las Plantas: 4636446.0\n",
            "  Diferencia (Capacidad - Demanda): 569388.0\n",
            "\n",
            "Año 2:\n",
            "  Demanda Total: 5083274.0600000005\n",
            "  Capacidad Total de las Plantas: 4636446.0\n",
            "  Diferencia (Capacidad - Demanda): -446828.0600000005\n",
            "\n",
            "Año 3:\n",
            "  Demanda Total: 6385204.3462000005\n",
            "  Capacidad Total de las Plantas: 4636446.0\n",
            "  Diferencia (Capacidad - Demanda): -1748758.3462000005\n",
            "\n"
          ]
        }
      ],
      "source": [
        "# Optimizar el modelo\n",
        "m.optimize()\n",
        "\n",
        "# Mostrar resultados\n",
        "if m.status == GRB.OPTIMAL:\n",
        "    for c in ciudades:\n",
        "        for p in tipos_planta:\n",
        "            if x[c, p].X > 0.5:\n",
        "                print(f\"Instalar planta {p} en {c}\")\n",
        "    for c in ciudades:\n",
        "        for r in regiones:\n",
        "            for t in transportes:\n",
        "                for an in años:\n",
        "                    if y[c, r, t, an].X > 0:\n",
        "                        print(f\"Transportar {y[c, r, t, an].X} unidades desde {c} a {r} usando {t} en el año {an}\")\n",
        "    for c in ciudades:\n",
        "        for p in tipos_planta:\n",
        "            if x[c, p].x > 0:\n",
        "                print(f\"Instalar {x[c, p].x} planta(s) de tipo {p} en {c}\")\n",
        "\n",
        "\n",
        "    # Cálculo de los costos totales\n",
        "    total_apertura = sum(costos_apertura[(c, p)] * x[c, p].X for c in ciudades for p in tipos_planta)\n",
        "    total_fijo = sum(costos_fijos[(c, p)] * x[(c, p)].X for c in ciudades for p in tipos_planta)\n",
        "    total_variable = sum(costos_variables[(c, p)] * y[c, r, t, an].X for c in ciudades for p in tipos_planta\n",
        "                         for r in regiones for t in transportes for an in años)\n",
        "    total_transporte = sum(costos_transporte[(t, c, r)] * y[c, r, t, an].X for c in ciudades for r in regiones\n",
        "                           for t in transportes for an in años)\n",
        "\n",
        "    total_general = total_apertura + total_fijo + total_variable + total_transporte\n",
        "\n",
        "    # Impresión de resultados\n",
        "    print(\"\\n--- Resultados del Modelo ---\")\n",
        "    print(f\"Costo total de apertura: {total_apertura}\")\n",
        "    print(f\"Costo total fijo: {total_fijo}\")\n",
        "    print(f\"Costo total variable: {total_variable}\")\n",
        "    print(f\"Costo total de transporte: {total_transporte}\")\n",
        "    print(f\"Costo total general: {total_general}\")\n",
        "\n",
        "    print(\"\\n--- Plan de Transporte ---\")\n",
        "    for c in ciudades:\n",
        "        for r in regiones:\n",
        "            for t in transportes:\n",
        "                for an in años:\n",
        "                    if y[c, r, t, an].X > 0:\n",
        "                        print(f\"Año {an}: Transportar {y[c, r, t, an].X} unidades desde {c} a {r} usando {t}\")\n",
        "\n",
        "    print(\"\\n--- Producción Anual de Plantas ---\")\n",
        "    for c in ciudades:\n",
        "        for p in tipos_planta:\n",
        "            for an in años:\n",
        "                if z[c, p, an].X > 0:\n",
        "                    print(f\"Año {an}: Producir {z[c, p, an].X} unidades en la planta {p} de {c}\")\n",
        "\n",
        "    # Comparativo entre demanda y unidades transportadas\n",
        "    print(\"\\n--- Comparativo Demanda vs. Transporte ---\")\n",
        "    for r in regiones:\n",
        "        for an in años:\n",
        "            demanda = demanda_actual[r] * (1 + tasas_crecimiento[r]) ** (an - 1)\n",
        "            transporte_total = sum(y[c, r, t, an].X for c in ciudades for t in transportes)\n",
        "            print(f\"Año {an} - Región {r}:\")\n",
        "            print(f\"  Demanda: {demanda}\")\n",
        "            print(f\"  Unidades transportadas: {transporte_total}\")\n",
        "            print(f\"  Diferencia: {transporte_total - demanda}\\n\")\n",
        "\n",
        " # Comparativo entre demanda y capacidad de plantas\n",
        "    print(\"\\n--- Comparativo Demanda vs. Capacidad de Plantas ---\")\n",
        "    for an in años:\n",
        "        # Calcular la demanda total para todas las regiones en el año `an`\n",
        "        demanda_total_anual = sum(demanda_actual[r] * (1 + tasas_crecimiento[r]) ** (an - 1) for r in regiones)\n",
        "\n",
        "        # Calcular la capacidad total disponible en todas las plantas en el año `an`\n",
        "        capacidad_total_anual = sum(capacidad_planta[p] * x[c, p].X for c in ciudades for p in tipos_planta)\n",
        "\n",
        "        print(f\"Año {an}:\")\n",
        "        print(f\"  Demanda Total: {demanda_total_anual}\")\n",
        "        print(f\"  Capacidad Total de las Plantas: {capacidad_total_anual}\")\n",
        "        print(f\"  Diferencia (Capacidad - Demanda): {capacidad_total_anual - demanda_total_anual}\\n\")\n"
      ]
    }
  ],
  "metadata": {
    "kernelspec": {
      "display_name": "Python 3 (ipykernel)",
      "language": "python",
      "name": "python3"
    },
    "language_info": {
      "codemirror_mode": {
        "name": "ipython",
        "version": 3
      },
      "file_extension": ".py",
      "mimetype": "text/x-python",
      "name": "python",
      "nbconvert_exporter": "python",
      "pygments_lexer": "ipython3",
      "version": "3.12.4"
    },
    "colab": {
      "provenance": []
    }
  },
  "nbformat": 4,
  "nbformat_minor": 5
}